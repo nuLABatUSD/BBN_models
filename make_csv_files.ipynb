{
 "cells": [
  {
   "cell_type": "code",
   "execution_count": 2,
   "id": "f53c5a3c",
   "metadata": {},
   "outputs": [],
   "source": [
    "import make_csv\n",
    "import numpy as np"
   ]
  },
  {
   "cell_type": "code",
   "execution_count": 3,
   "id": "f8061ac6",
   "metadata": {},
   "outputs": [
    {
     "name": "stdout",
     "output_type": "stream",
     "text": [
      "Directory exists\n",
      ".csv files generated in alterbbn_v2.2/CSVFiles/\n"
     ]
    }
   ],
   "source": [
    "make_csv.generate_csv(\"please_shortlived_vals.npz\", folder_name=\"alterbbn_v2.2/CSVFiles/\")"
   ]
  },
  {
   "cell_type": "code",
   "execution_count": null,
   "id": "e5c3aabb",
   "metadata": {},
   "outputs": [],
   "source": []
  }
 ],
 "metadata": {
  "kernelspec": {
   "display_name": "Python 3 (ipykernel)",
   "language": "python",
   "name": "python3"
  },
  "language_info": {
   "codemirror_mode": {
    "name": "ipython",
    "version": 3
   },
   "file_extension": ".py",
   "mimetype": "text/x-python",
   "name": "python",
   "nbconvert_exporter": "python",
   "pygments_lexer": "ipython3",
   "version": "3.9.12"
  }
 },
 "nbformat": 4,
 "nbformat_minor": 5
}
