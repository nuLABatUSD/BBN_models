{
 "cells": [
  {
   "cell_type": "code",
   "execution_count": 1,
   "id": "f53c5a3c",
   "metadata": {},
   "outputs": [],
   "source": [
    "import make_csv\n",
    "import numpy as np"
   ]
  },
  {
   "cell_type": "code",
   "execution_count": 2,
   "id": "f8061ac6",
   "metadata": {},
   "outputs": [
    {
     "name": "stdout",
     "output_type": "stream",
     "text": [
      "Directory exists\n",
      ".csv files generated in CSV/\n"
     ]
    }
   ],
   "source": [
    "make_csv.generate_csv(\"newer_movie_arrays.npz\", folder_name=\"CSV/\")"
   ]
  },
  {
   "cell_type": "code",
   "execution_count": null,
   "id": "e5c3aabb",
   "metadata": {},
   "outputs": [],
   "source": []
  }
 ],
 "metadata": {
  "kernelspec": {
   "display_name": "Python 3",
   "language": "python",
   "name": "python3"
  },
  "language_info": {
   "codemirror_mode": {
    "name": "ipython",
    "version": 3
   },
   "file_extension": ".py",
   "mimetype": "text/x-python",
   "name": "python",
   "nbconvert_exporter": "python",
   "pygments_lexer": "ipython3",
   "version": "3.8.8"
  }
 },
 "nbformat": 4,
 "nbformat_minor": 5
}
