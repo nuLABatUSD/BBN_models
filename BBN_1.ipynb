{
 "cells": [
  {
   "cell_type": "code",
   "execution_count": 114,
   "id": "c4f46333",
   "metadata": {},
   "outputs": [],
   "source": [
    "import numpy as np\n",
    "import matplotlib.pyplot as plt\n",
    "import numba as nb"
   ]
  },
  {
   "cell_type": "code",
   "execution_count": 115,
   "id": "08216f49",
   "metadata": {},
   "outputs": [],
   "source": [
    "def e_integrand(zeta, m_e, T_values):\n",
    "    integrand = np.zeros((len(T_values), len(zeta)))\n",
    "    \n",
    "    for i in range(len(T_values)):\n",
    "        T = T_values[i]\n",
    "        for j in range(len(zeta)):\n",
    "            integrand[i, j] = (zeta[j]**2 * np.sqrt(zeta[j]**2 + (m_e / T)**2)) / (np.exp(np.sqrt(zeta[j]**2 + (m_e / T)**2)) + 1) * np.exp(zeta[j])\n",
    "    \n",
    "    return integrand\n",
    "\n",
    "x_gauss,w_gauss = np.polynomial.laguerre.laggauss(40)"
   ]
  },
  {
   "cell_type": "markdown",
   "id": "bf92e318",
   "metadata": {},
   "source": [
    "This function below allows us to calcualte dQ/dt and the enegery density in neutrinos (pv) from the mass file. Takes the name of the mass file as an input and the name of the saved file you would like to be created."
   ]
  },
  {
   "cell_type": "code",
   "execution_count": 127,
   "id": "66264d97",
   "metadata": {},
   "outputs": [],
   "source": [
    "def imp_values(filename,saved_file):\n",
    "    actual_data= np.load(filename, allow_pickle=True)\n",
    "    f_array = actual_data['fe']\n",
    "    e_array = actual_data['e']\n",
    "    temp_cm = actual_data['Tcm']\n",
    "    m_s = actual_data['mass']#in MeV\n",
    "    t = actual_data['time'] #inverse MeV\n",
    "    a = actual_data['scalefactors']\n",
    "    life = actual_data['lifetime']/(6.58*10**-25)*1/1000 #seconds need to be converted to inverse MeV\n",
    "    temp = actual_data['temp'] #units of MeV\n",
    "    decay = actual_data['decayrate']\n",
    "    coll = actual_data['collisionrate']\n",
    "    p_n = actual_data['p_n_rate']\n",
    "    n_p = actual_data['n_p_rate']\n",
    "    mix = actual_data['mixing']\n",
    "    T_0 = temp[0]\n",
    "    roww = len(temp)\n",
    "    \n",
    "    \n",
    "    eta_0 = 6.1e-10\n",
    "    fail_safe = 1\n",
    "               \n",
    "               \n",
    "    D = (10.75/61.75)\n",
    "    Rz_3 = 1.202056901178332\n",
    "    n_s = D*(3*Rz_3/(2*np.pi**2))*(temp_cm)**3*np.exp(-t/life)\n",
    "    ns_initial = n_s[0]\n",
    "    \n",
    "    \n",
    "    m_pl = (1.2*10**19)*1000 #planck mass in MeV\n",
    "    m_e = 0.510 #electron mass in MeV\n",
    "    \n",
    "    \n",
    "    p_y = (np.pi**2/15)*(temp)**4\n",
    "    p_vs = m_s*n_s\n",
    "\n",
    "    results = []\n",
    "    for e,f in zip(e_array,f_array):\n",
    "        result = np.trapz(e**3*f,e)\n",
    "        results.append(result)\n",
    "        \n",
    "    p_v = 6*((temp_cm)**4/(2*np.pi**2))*results #in units of MeV^4\n",
    "    \n",
    "    \n",
    "    integrand_vals = np.zeros((len(e_integrand(x_gauss,0.510,temp)),len(w_gauss)))\n",
    "    vals = e_integrand(x_gauss,m_e,temp)\n",
    "    \n",
    "    for i in range(len(integrand_vals)):\n",
    "        V = vals[i]\n",
    "        for j in range(len(w_gauss)):\n",
    "            integrand_vals[i,j] = (2*(temp[j])**4/(np.pi)**2)*V[j]*w_gauss[j]\n",
    "            \n",
    "    sums_array = []\n",
    "    for subarray in integrand_vals:\n",
    "        subarray_sum = 0\n",
    "        for i in subarray:\n",
    "            subarray_sum += i\n",
    "        sums_array.append(subarray_sum)\n",
    "   \n",
    "    p_e = sums_array\n",
    "    p = p_e+p_y+p_v+p_vs\n",
    "    \n",
    "    da = np.sqrt(8*np.pi/(3*m_pl**2))*a/(p)**(-1/2)\n",
    "    \n",
    "    results_1 = []\n",
    "    for e,dec,col in zip(e_array,decay,coll):\n",
    "        result_1 = np.trapz(e**3*(dec+col),e)\n",
    "        results_1.append(result_1)\n",
    "    \n",
    "    dQ = (m_s*n_s*a**3/life)-(temp_cm**4*a**3/(2*np.pi**2))*da*results_1 #in units of MeV^5\n",
    "    \n",
    "    dqdt = dQ/a**3 #converts to MeV^4/sec\n",
    "    \n",
    "    \n",
    "   \n",
    "    np.savez(saved_file, T = temp, Tcm = temp_cm, dQdt = dqdt, pn = p_n, np = n_p, rhonu = p_v, T_initial = T_0, eta_initial = eta_0, failsafe = fail_safe, ns_0 = ns_initial, vs_mass = m_s, mix_ang = mix, row = roww)\n",
    "\n",
    "    return dqdt,p_v,p_e\n",
    "    \n",
    "    "
   ]
  },
  {
   "cell_type": "code",
   "execution_count": 128,
   "id": "b46bd5d4",
   "metadata": {},
   "outputs": [],
   "source": [
    "a,b,c = imp_values(\"mass-300-life-0.030-new.npz\",\"please_shortlived_vals\")"
   ]
  },
  {
   "cell_type": "code",
   "execution_count": 130,
   "id": "77d3948a",
   "metadata": {},
   "outputs": [
    {
     "name": "stdout",
     "output_type": "stream",
     "text": [
      "[ 5.67898407e-16  5.53659023e-16  5.36917828e-16  5.20134057e-16\n",
      "  5.03552059e-16  4.87073219e-16  4.70764907e-16  4.54617525e-16\n",
      "  4.38630853e-16  4.22882413e-16  4.07184630e-16  3.91724231e-16\n",
      "  3.76446278e-16  3.61297797e-16  3.46491831e-16  3.31743851e-16\n",
      "  3.17231884e-16  3.02928414e-16  2.88867063e-16  2.74939462e-16\n",
      "  2.61267178e-16  2.47741883e-16  2.34589780e-16  2.21587621e-16\n",
      "  2.08751625e-16  1.96296510e-16  1.84012229e-16  1.72018581e-16\n",
      "  1.60209768e-16  1.48711750e-16  1.37399321e-16  1.26461580e-16\n",
      "  1.15679257e-16  1.05542588e-16  9.55248536e-17  8.57831468e-17\n",
      "  7.70300405e-17  6.90566751e-17  6.11583852e-17  5.36596627e-17\n",
      "  4.68694844e-17  4.27983170e-17  3.94587109e-17  3.50442353e-17\n",
      "  3.10911180e-17  2.74553160e-17  2.46115635e-17  2.25041503e-17\n",
      "  2.01079272e-17  1.77857786e-17  1.56473814e-17  1.39109527e-17\n",
      "  1.24865795e-17  1.11825183e-17  1.03502428e-17  9.19131287e-18\n",
      "  8.09257318e-18  7.19521949e-18  6.19353928e-18  5.26352202e-18\n",
      "  4.59386303e-18  4.01607235e-18  3.60593054e-18  3.18572541e-18\n",
      "  2.78831391e-18  2.43172183e-18  2.07337417e-18  1.74277691e-18\n",
      "  1.46497504e-18  1.20687052e-18  1.00625905e-18  8.05793484e-19\n",
      "  6.38168532e-19  4.79555665e-19  3.29072121e-19  2.21456697e-19\n",
      "  1.17764743e-19  3.54438103e-20 -3.05980162e-20 -8.29580777e-20\n",
      " -1.23058194e-19 -1.53872207e-19 -1.82008667e-19 -2.04759454e-19\n",
      " -2.13651713e-19 -2.26491957e-19 -2.23979550e-19 -2.17028055e-19\n",
      " -2.13974256e-19 -2.07549059e-19 -2.03489309e-19 -1.89286718e-19\n",
      " -1.82054853e-19 -1.67062626e-19 -1.55201225e-19 -1.43814695e-19\n",
      " -1.28315456e-19 -1.14404788e-19 -1.05873700e-19 -9.37907977e-20\n",
      " -8.28709250e-20 -7.53077153e-20 -6.67746136e-20 -5.84091321e-20\n",
      " -5.29423654e-20 -4.51772708e-20 -3.94983572e-20 -3.38516195e-20\n",
      " -2.90548350e-20 -2.48252893e-20 -2.20893603e-20 -1.90401370e-20\n",
      " -1.58306524e-20 -1.36091557e-20 -1.16403547e-20 -9.97803959e-21\n",
      " -8.78440824e-21 -7.40323782e-21 -6.56258879e-21 -5.57726683e-21\n",
      " -4.98451922e-21 -4.46823371e-21 -3.92301117e-21 -3.49001862e-21\n",
      " -3.12537188e-21 -2.81079474e-21 -2.55553107e-21 -2.35996692e-21\n",
      " -2.15092668e-21 -2.00995998e-21 -1.84953497e-21 -1.74070098e-21\n",
      " -1.60485645e-21 -1.49532013e-21 -1.40833526e-21 -1.32918140e-21\n",
      " -1.26329298e-21 -1.20540445e-21 -1.13748887e-21 -1.08869137e-21\n",
      " -1.02824305e-21 -9.80117148e-22 -9.33220427e-22 -8.87280909e-22\n",
      " -8.48133968e-22 -8.12916267e-22 -7.72821893e-22 -7.32480059e-22\n",
      " -6.90803317e-22 -6.61869599e-22 -6.23022255e-22 -6.00515758e-22\n",
      " -5.67160551e-22 -5.44636087e-22 -5.18188932e-22 -4.92104502e-22\n",
      " -4.64536317e-22 -4.43850724e-22 -4.20826456e-22 -4.04157549e-22\n",
      " -3.83698056e-22 -3.67363469e-22 -3.47490798e-22 -3.33406762e-22\n",
      " -3.15222889e-22 -2.99412802e-22 -2.85743601e-22 -2.72177596e-22\n",
      " -2.60291043e-22 -2.48665455e-22 -2.38828668e-22 -2.28661567e-22\n",
      " -2.19975663e-22 -2.09566961e-22 -2.10408130e-22 -2.02641215e-22\n",
      " -1.92228034e-22 -1.85898714e-22 -1.78266690e-22 -1.71389795e-22\n",
      " -1.65067403e-22 -1.59086798e-22 -1.52789882e-22 -1.47591347e-22\n",
      " -1.41101746e-22 -1.36736127e-22 -1.32202588e-22 -1.27700609e-22\n",
      " -1.22826311e-22 -1.18273626e-22 -1.13727242e-22 -1.09689317e-22\n",
      " -1.05272497e-22 -1.01411789e-22 -9.79017795e-23 -9.42309984e-23\n",
      " -9.08418942e-23 -8.72198238e-23 -8.34558493e-23 -8.05372240e-23\n",
      " -7.70726974e-23 -7.45858263e-23 -7.15936621e-23 -6.89160415e-23\n",
      " -6.63823047e-23 -6.42454670e-23 -6.18050065e-23 -5.93309078e-23\n",
      " -5.71684884e-23 -5.47564831e-23 -5.26905176e-23 -5.08653637e-23\n",
      " -4.89285690e-23 -4.71963219e-23 -4.54496159e-23 -4.35997283e-23\n",
      " -4.17288334e-23 -4.01336219e-23 -3.82664447e-23 -3.65202038e-23\n",
      " -3.52384504e-23 -3.38160828e-23 -3.23588834e-23 -3.06942988e-23\n",
      " -2.92258932e-23 -2.79409463e-23 -2.65041135e-23 -2.52680634e-23\n",
      " -2.40178110e-23 -2.28200585e-23 -2.16279873e-23 -2.03973476e-23\n",
      " -1.92428045e-23 -1.80718010e-23 -1.68154558e-23 -1.55687910e-23\n",
      " -1.44458489e-23 -1.32286386e-23 -1.20107619e-23 -1.09334528e-23\n",
      " -9.65063890e-24 -8.13610107e-24 -6.67313788e-24 -7.13769455e-24\n",
      " -5.40705600e-24 -1.45801850e-25 -2.01167710e-27 -5.16857070e-30\n",
      " -1.34237390e-34 -5.82820002e-43 -4.78013630e-57  4.35862072e-60\n",
      "  3.89925307e-63 -4.03891179e-67  2.95045756e-68]\n"
     ]
    }
   ],
   "source": [
    "print(a)"
   ]
  },
  {
   "cell_type": "code",
   "execution_count": 132,
   "id": "12b73fec",
   "metadata": {},
   "outputs": [],
   "source": [
    "T_reversed = temp[::-1]"
   ]
  },
  {
   "cell_type": "code",
   "execution_count": 135,
   "id": "64a61568",
   "metadata": {},
   "outputs": [
    {
     "data": {
      "image/png": "[encoded data removed]",
      "text/plain": [
       "<Figure size 432x288 with 1 Axes>"
      ]
     },
     "metadata": {
      "needs_background": "light"
     },
     "output_type": "display_data"
    }
   ],
   "source": [
    "plt.figure()\n",
    "plt.semilogy(T_reversed,c/T_reversed,color='red')\n",
    "plt.show()"
   ]
  },
  {
   "cell_type": "code",
   "execution_count": null,
   "id": "25d806f0",
   "metadata": {},
   "outputs": [],
   "source": []
  }
 ],
 "metadata": {
  "kernelspec": {
   "display_name": "Python 3 (ipykernel)",
   "language": "python",
   "name": "python3"
  },
  "language_info": {
   "codemirror_mode": {
    "name": "ipython",
    "version": 3
   },
   "file_extension": ".py",
   "mimetype": "text/x-python",
   "name": "python",
   "nbconvert_exporter": "python",
   "pygments_lexer": "ipython3",
   "version": "3.9.12"
  }
 },
 "nbformat": 4,
 "nbformat_minor": 5
}
