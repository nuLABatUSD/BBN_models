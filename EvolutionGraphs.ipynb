{
 "cells": [
  {
   "cell_type": "code",
   "execution_count": 18,
   "id": "d2fab5eb",
   "metadata": {},
   "outputs": [],
   "source": [
    "import subprocess\n",
    "import numpy as np\n",
    "import matplotlib.pyplot as plt\n",
    "import BeginnersGraphs as ev\n",
    "import ipywidgets as widgets\n",
    "import pandas as pd"
   ]
  },
  {
   "cell_type": "code",
   "execution_count": 19,
   "id": "c41a128e",
   "metadata": {},
   "outputs": [],
   "source": [
    "#ev.clean_directory('alterbbn_v2.2', 'alter_eta.c', if_PC=False)\n",
    "#run_directory_new"
   ]
  },
  {
   "cell_type": "code",
   "execution_count": 20,
   "id": "1899f0b9",
   "metadata": {},
   "outputs": [],
   "source": [
    "#subprocess.run(['./alterbbn_v2.2/alter_eta.x', str(6.1e-19)], capture_output = True, text = False)"
   ]
  },
  {
   "cell_type": "code",
   "execution_count": 21,
   "id": "f0f186df",
   "metadata": {},
   "outputs": [],
   "source": [
    "#%%time\n",
    "#ev.output_plots_alter_eta(1e-10, 10e-10, 40, './alterbbn_v2.2/alter_eta.x', if_PC = False)"
   ]
  },
  {
   "cell_type": "code",
   "execution_count": 22,
   "id": "a5634017",
   "metadata": {},
   "outputs": [],
   "source": [
    "#data = np.loadtxt('evolution.out', delimiter=',', skiprows=1, usecols=range(21), unpack=True)\n",
    "#column1, column2 = np.loadtxt('./alterbbn_v2.2/evolution.out',delimiter=',',usecols=(0,1),unpack=True)"
   ]
  },
  {
   "cell_type": "code",
   "execution_count": 23,
   "id": "c05ed3fb",
   "metadata": {},
   "outputs": [],
   "source": [
    "#Testing just one graph\n",
    "#plt.figure()\n",
    "#plt.plot(column1,column2)\n",
    "#plt.show()"
   ]
  },
  {
   "cell_type": "code",
   "execution_count": 24,
   "id": "612472ee",
   "metadata": {},
   "outputs": [],
   "source": [
    "# For printing all at once\n",
    "#data = np.loadtxt('./alterbbn_v2.2/evolution.out',delimiter=',',usecols = (i for i in range(21)),unpack=True)\n",
    "#for i in range (21):\n",
    " #   plt.figure()\n",
    "  #  plt.loglog((data[2]*1000), data[i]) \n",
    "   # plt.show()"
   ]
  },
  {
   "cell_type": "code",
   "execution_count": 25,
   "id": "03837528",
   "metadata": {},
   "outputs": [
    {
     "data": {
      "text/plain": [
       "1"
      ]
     },
     "execution_count": 25,
     "metadata": {},
     "output_type": "execute_result"
    }
   ],
   "source": [
    "1#t(s), a, T (MeV), Tnu (MeV), photons, baryons, rho_{nu}, drho_{nu}, phi (GeV^4), 10 rho_vs(GeV^4), sigma_rad (GeV^4), Y(n), Y(p), Y(2H), Y(3H), Y(3He), Y(4He), Y(6Li), Y(7Li), 20 Y(7Be), eta"
   ]
  },
  {
   "cell_type": "code",
   "execution_count": 26,
   "id": "8839b5fb",
   "metadata": {},
   "outputs": [],
   "source": [
    "\n",
    "# column1 = data[0]\n",
    "# column2 = data[1]\n",
    "# column3 = data[2]*1000\n",
    "# column4 = data[3]\n",
    "# column5 = data[4]\n",
    "# column6 = data[5]\n",
    "# column7 = data[6]\n",
    "# column8 = data[7]\n",
    "# column9 = data[8]\n",
    "# column10 = data[9]\n",
    "# column11 = data[10]\n",
    "# column12 = data[11]\n",
    "# column13 = data[12]\n",
    "# column14 = data[13]\n",
    "# column15 = data[14]\n",
    "# column16 = data[15]\n",
    "# column17 = data[16]\n",
    "# column18 = data[17]\n",
    "# column19 = data[18]\n",
    "# column20 = data[19]\n",
    "# column21 = data[20]\n"
   ]
  },
  {
   "cell_type": "code",
   "execution_count": 28,
   "id": "54f47172",
   "metadata": {},
   "outputs": [],
   "source": [
    "#plt.figure()\n",
    "#plt.loglog(column3,column17*2)\n",
    "#plt.loglog(column3,column12)\n",
    "#plt.loglog(column3,column14*50)\n",
    "#plt.xlim(60,90)\n",
    "#plt.ylim(10e-4,10)\n",
    "#plt.xlabel(\"Temp KeV\")\n",
    "#plt.ylabel(\"4He, D, N\")\n",
    "#plt.show()"
   ]
  },
  {
   "cell_type": "code",
   "execution_count": 36,
   "id": "c2e9ed20",
   "metadata": {},
   "outputs": [],
   "source": [
    "columnD = data[11]\n",
    "GreenMax = np.max(columnD)\n",
    "GreenFinal = columnD[-1]\n",
    "max_y_index = np.argmax(columnD)\n",
    "x_max = column1[max_y_index]"
   ]
  },
  {
   "cell_type": "code",
   "execution_count": 37,
   "id": "b173b2e4",
   "metadata": {},
   "outputs": [],
   "source": [
    "def Evo_Graph_Func(N):\n",
    "    subprocess.run(['./alterbbn_v2.2/alter_eta.x', str(N)], capture_output = True, text = False) \n",
    "    data = np.loadtxt('evolution.out', delimiter=',', skiprows=1, usecols=range(21), unpack=True)\n",
    "    plt.figure()\n",
    "    plt.loglog(data[2]*1000,data[16]*2)\n",
    "    plt.loglog(data[2]*1000,data[11])\n",
    "    plt.loglog(data[2]*1000,data[13]*50)\n",
    "    #plt.xlim(60,90)\n",
    "    #plt.ylim(10e-4,10)\n",
    "    plt.xlabel(\"Temp KeV\")\n",
    "    plt.ylabel(\"4He, D, N\")\n",
    "    column1 = data[2]\n",
    "    plt.show()\n",
    "    columnD = data[11]\n",
    "    GreenMax = np.max(columnD)\n",
    "    GreenFinal = columnD[-1]\n",
    "    #xMax = [np.where(column1==np.max(columnD))]\n",
    "    max_y_index = np.argmax(columnD)\n",
    "    x_max = column1[max_y_index]\n"
   ]
  },
  {
   "cell_type": "code",
   "execution_count": 40,
   "id": "0807d2f2",
   "metadata": {
    "scrolled": true
   },
   "outputs": [
    {
     "data": {
      "image/png": "[encoded data removed]",
      "text/plain": [
       "<Figure size 640x480 with 1 Axes>"
      ]
     },
     "metadata": {},
     "output_type": "display_data"
    },
    {
     "name": "stdout",
     "output_type": "stream",
     "text": [
      "Maximum = 0.364497\n",
      "Final value = 1.93601e-17\n",
      "x value corresponding to the maximum y value: 1.00038e-10\n"
     ]
    }
   ],
   "source": [
    "Evo_Graph_Func(9.4966e-18)\n",
    "print(f\"Maximum = {GreenMax}\")\n",
    "print(f\"Final value = {GreenFinal}\")\n",
    "print(f\"x value corresponding to the maximum y value: {x_max}\")"
   ]
  },
  {
   "cell_type": "code",
   "execution_count": null,
   "id": "47372341",
   "metadata": {},
   "outputs": [],
   "source": []
  },
  {
   "cell_type": "code",
   "execution_count": null,
   "id": "d562f327",
   "metadata": {},
   "outputs": [],
   "source": []
  },
  {
   "cell_type": "code",
   "execution_count": null,
   "id": "8e506fd0",
   "metadata": {},
   "outputs": [],
   "source": []
  }
 ],
 "metadata": {
  "kernelspec": {
   "display_name": "Python 3 (ipykernel)",
   "language": "python",
   "name": "python3"
  },
  "language_info": {
   "codemirror_mode": {
    "name": "ipython",
    "version": 3
   },
   "file_extension": ".py",
   "mimetype": "text/x-python",
   "name": "python",
   "nbconvert_exporter": "python",
   "pygments_lexer": "ipython3",
   "version": "3.10.9"
  }
 },
 "nbformat": 4,
 "nbformat_minor": 5
}
