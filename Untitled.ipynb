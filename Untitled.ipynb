{
 "cells": [
  {
   "cell_type": "code",
   "execution_count": 1,
   "id": "dc5a5f05",
   "metadata": {},
   "outputs": [],
   "source": [
    "import BeginnersGraphs as ev\n",
    "import subprocess"
   ]
  },
  {
   "cell_type": "markdown",
   "id": "6f9343b9",
   "metadata": {},
   "source": [
    "Use ``if_PC = True``, and if it doesn't work, use the full address (starting from ``C:/``) for the folder"
   ]
  },
  {
   "cell_type": "code",
   "execution_count": 2,
   "id": "dd4dbcc0",
   "metadata": {},
   "outputs": [
    {
     "name": "stdout",
     "output_type": "stream",
     "text": [
      "['make', '-C', 'alterbbn_v2.2', 'alter_eta.c']\n",
      "\n",
      "make: Circular alter_eta.c <- alter_eta.c dependency dropped.\n",
      "bbn_constraints.c:18:2: warning: array index 4 is past the end of the array (which contains 4 elements) [-Warray-bounds]\n",
      "        translate[4]=5;  // He3_H=ratioH[5]\n",
      "        ^         ~\n",
      "bbn_constraints.c:13:5: note: array 'translate' declared here\n",
      "    int translate[4];\n",
      "    ^\n",
      "1 warning generated.\n",
      "\n"
     ]
    }
   ],
   "source": [
    "ev.clean_directory('alterbbn_v2.2', 'alter_eta.c', if_PC=False)"
   ]
  },
  {
   "cell_type": "markdown",
   "id": "267fd005",
   "metadata": {},
   "source": [
    "Use ``if_PC = True`` and, if needed, use full address of ``alter_eta.x``"
   ]
  },
  {
   "cell_type": "code",
   "execution_count": 3,
   "id": "7c0238b4",
   "metadata": {},
   "outputs": [
    {
     "data": {
      "image/png": "[encoded data removed]",
      "text/plain": [
       "<Figure size 432x288 with 1 Axes>"
      ]
     },
     "metadata": {
      "needs_background": "light"
     },
     "output_type": "display_data"
    },
    {
     "data": {
      "image/png": "[encoded data removed]",
      "text/plain": [
       "<Figure size 432x288 with 1 Axes>"
      ]
     },
     "metadata": {
      "needs_background": "light"
     },
     "output_type": "display_data"
    },
    {
     "name": "stdout",
     "output_type": "stream",
     "text": [
      "CPU times: user 531 ms, sys: 224 ms, total: 755 ms\n",
      "Wall time: 4min 13s\n"
     ]
    }
   ],
   "source": [
    "%%time\n",
    "ev.output_plots_alter_eta(1e-10, 10e-10, 40, './alterbbn_v2.2/alter_eta.x', if_PC = False)"
   ]
  },
  {
   "cell_type": "code",
   "execution_count": 5,
   "id": "9c21be6c",
   "metadata": {},
   "outputs": [
    {
     "data": {
      "text/plain": [
       "CompletedProcess(args=['./alterbbn_v2.2/alter_eta.x', '6.1e-10'], returncode=1, stdout='\\t Yp\\t\\t H2/H\\t\\t He3/H\\t\\t Li7/H\\t\\t Li6/H\\t\\t Be7/H\\n  low:\\t 2.474e-01\\t 2.518e-05\\t 1.020e-05\\t 5.063e-10\\t 1.683e-15\\t 4.780e-10\\n cent:\\t 2.473e-01\\t 2.435e-05\\t 1.031e-05\\t 5.466e-10\\t 1.073e-14\\t 5.180e-10\\n high:\\t 2.472e-01\\t 2.396e-05\\t 1.040e-05\\t 5.783e-10\\t 3.509e-14\\t 5.491e-10\\n\\n--------------------\\n\\nWith uncertainties:\\n\\t Yp\\t\\t H2/H\\t\\t He3/H\\t\\t Li7/H\\t\\t Li6/H\\t\\t Be7/H\\nvalue:\\t 2.473e-01\\t 2.435e-05\\t 1.031e-05\\t 5.466e-10\\t 1.073e-14\\t 5.180e-10\\n +/- :\\t 3.209e-04\\t 9.144e-07\\t 1.765e-07\\t 4.316e-11\\t 1.073e-14\\t 4.252e-11\\n\\nCorrelation matrix:\\n\\t Yp\\t\\t H2/H\\t\\t He3/H\\t\\t Li7/H\\t\\t Li6/H\\t\\t Be7/H\\nYp\\t 1.000000\\t 0.039521\\t 0.000762\\t -0.000878\\t 0.003146\\t -0.003057\\nH2/H\\t 0.039521\\t 1.000000\\t -0.649180\\t -0.595083\\t 0.051849\\t -0.612732\\nHe3/H\\t 0.000762\\t -0.649180\\t 1.000000\\t 0.428644\\t -0.057295\\t 0.443438\\nLi7/H\\t -0.000878\\t -0.595083\\t 0.428644\\t 1.000000\\t -0.019897\\t 0.997756\\nLi6/H\\t 0.003146\\t 0.051849\\t -0.057295\\t -0.019897\\t 1.000000\\t -0.021338\\nBe7/H\\t -0.003057\\t -0.612732\\t 0.443438\\t 0.997756\\t -0.021338\\t 1.000000\\n\\nCompatible with BBN constraints (chi2 without correlations)\\nCompatible with BBN constraints (chi2 including correlations)\\n', stderr='')"
      ]
     },
     "execution_count": 5,
     "metadata": {},
     "output_type": "execute_result"
    }
   ],
   "source": [
    "subprocess.run([\"./alterbbn_v2.2/alter_eta.x\", '6.1e-10'], capture_output = True, text = True, shell = False)"
   ]
  },
  {
   "cell_type": "code",
   "execution_count": null,
   "id": "ce5523a9",
   "metadata": {},
   "outputs": [],
   "source": []
  }
 ],
 "metadata": {
  "kernelspec": {
   "display_name": "Python 3",
   "language": "python",
   "name": "python3"
  },
  "language_info": {
   "codemirror_mode": {
    "name": "ipython",
    "version": 3
   },
   "file_extension": ".py",
   "mimetype": "text/x-python",
   "name": "python",
   "nbconvert_exporter": "python",
   "pygments_lexer": "ipython3",
   "version": "3.8.8"
  }
 },
 "nbformat": 4,
 "nbformat_minor": 5
}
