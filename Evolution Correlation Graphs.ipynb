{
 "cells": [
  {
   "cell_type": "code",
   "execution_count": 1,
   "id": "9d3cc35f",
   "metadata": {},
   "outputs": [],
   "source": [
    "import subprocess\n",
    "import numpy as np\n",
    "import matplotlib.pyplot as plt\n",
    "import BeginnersGraphs as ev\n",
    "import ipywidgets as widgets\n",
    "import pandas as pd"
   ]
  },
  {
   "cell_type": "code",
   "execution_count": 2,
   "id": "dab4ba30",
   "metadata": {},
   "outputs": [
    {
     "name": "stdout",
     "output_type": "stream",
     "text": [
      "['make', '-C', 'alterbbn_v2.2', 'alter_eta.c']\n",
      "\n",
      "make: Circular alter_eta.c <- alter_eta.c dependency dropped.\n",
      "bbn_constraints.c:18:2: warning: array index 4 is past the end of the array (which contains 4 elements) [-Warray-bounds]\n",
      "        translate[4]=5;  // He3_H=ratioH[5]\n",
      "        ^         ~\n",
      "bbn_constraints.c:13:5: note: array 'translate' declared here\n",
      "    int translate[4];\n",
      "    ^\n",
      "1 warning generated.\n",
      "\n"
     ]
    }
   ],
   "source": [
    " ev.clean_directory('alterbbn_v2.2', 'alter_eta.c', if_PC=False)"
   ]
  },
  {
   "cell_type": "code",
   "execution_count": 3,
   "id": "523a9d91",
   "metadata": {},
   "outputs": [],
   "source": [
    "#Input: (set X as data you want)\n",
    "#1 t(s), a, T (MeV), Tnu (MeV), #5 photons, baryons, rho_{nu}, drho_{nu}, phi (GeV^4), #10 rho_vs(GeV^4), sigma_rad (GeV^4), Y(n), Y(p), Y(2H), #15 Y(3H), Y(3He), Y(4He), Y(6Li), Y(7Li), #20 Y(7Be), eta\n",
    "#X = 13\n",
    "data_rows = {'D': 13,\n",
    "             '7Li': 18,\n",
    "             '7Be': 19}\n",
    "col_labels = {'D': 'D',\n",
    "              '7Li': r'${}^7$Li',\n",
    "              '7Be': r'${}^7$Be'}"
   ]
  },
  {
   "cell_type": "code",
   "execution_count": 10,
   "id": "05b89a6a",
   "metadata": {},
   "outputs": [],
   "source": [
    "def Evo_Graph_Func(N,X):\n",
    "    subprocess.run(['./alterbbn_v2.2/alter_eta.x', str(N)], capture_output = True, text = False) \n",
    "    data = np.loadtxt('evolution.out', delimiter=',', skiprows=1, usecols=range(21), unpack=True)\n",
    "    column1 = data[2]\n",
    "    columnD = data[X]\n",
    "    DMax = np.max(columnD)\n",
    "    DFinal = columnD[-1]\n",
    "    max_y_index = np.argmax(columnD)\n",
    "    DX_max = column1[max_y_index]\n",
    "    return DFinal, DMax, DX_max"
   ]
  },
  {
   "cell_type": "code",
   "execution_count": 15,
   "id": "df973c20",
   "metadata": {},
   "outputs": [],
   "source": [
    "etaArr = np.linspace(1e-10, 1e-9, num = 10)\n",
    "    "
   ]
  },
  {
   "cell_type": "code",
   "execution_count": 16,
   "id": "4b4c1425",
   "metadata": {},
   "outputs": [
    {
     "name": "stdout",
     "output_type": "stream",
     "text": [
      "Eta Values: [1.e-10 2.e-10 3.e-10 4.e-10 5.e-10 6.e-10 7.e-10 8.e-10 9.e-10 1.e-09]\n",
      "DFinal values: [0.000357352, 0.000111085, 5.74292e-05, 3.63771e-05, 2.5391e-05, 1.88144e-05, 1.46761e-05, 1.15328e-05, 9.37313e-06, 7.60086e-06]\n",
      "DMax values: [0.00615849, 0.00479266, 0.00410293, 0.00362346, 0.00325315, 0.00296453, 0.00271608, 0.00248019, 0.00233481, 0.00221359]\n",
      "DX_max values: [0.0639031, 0.0679571, 0.0696251, 0.0706228, 0.0714498, 0.0725913, 0.0727317, 0.0728207, 0.0742142, 0.0749373]\n"
     ]
    }
   ],
   "source": [
    "DFinal_list = []\n",
    "DMax_list = []\n",
    "DX_max_list = []\n",
    "for N in etaArr:\n",
    "    DFinal, DMax, DX_max = Evo_Graph_Func(N,data_rows['D'])\n",
    "    DFinal_list.append(DFinal)\n",
    "    DMax_list.append(DMax)\n",
    "    DX_max_list.append(DX_max)\n",
    "   \n",
    "print(\"Eta Values:\", etaArr)\n",
    "print(\"DFinal values:\", DFinal_list)\n",
    "print(\"DMax values:\", DMax_list)\n",
    "print(\"DX_max values:\", DX_max_list)"
   ]
  },
  {
   "cell_type": "code",
   "execution_count": 17,
   "id": "d481e5c6",
   "metadata": {},
   "outputs": [],
   "source": [
    "axs = [[None for i in range(3)] for j in range(3)]"
   ]
  },
  {
   "cell_type": "code",
   "execution_count": 23,
   "id": "39369415",
   "metadata": {},
   "outputs": [],
   "source": [
    "eta = etaArr\n",
    "p1 = DFinal_list\n",
    "p2 = DMax_list\n",
    "p3 = DX_max_list\n",
    "\n",
    "data = [p1, p2, p3]\n",
    "datalabels = [r'final', r'max', r'$T_{max}$', r'$\\eta$']"
   ]
  },
  {
   "cell_type": "code",
   "execution_count": 24,
   "id": "9d598a92",
   "metadata": {},
   "outputs": [
    {
     "data": {
      "image/png": "[encoded data removed]",
      "text/plain": [
       "<Figure size 720x720 with 6 Axes>"
      ]
     },
     "metadata": {
      "needs_background": "light"
     },
     "output_type": "display_data"
    }
   ],
   "source": [
    "plt.figure(figsize=(10,10))\n",
    "for i in range(3):\n",
    "    for j in range(3-i):\n",
    "        axs[i][j] = plt.axes([0.08 + 0.3 * j, 0.08 + 0.3 *i, 0.3, 0.3])\n",
    "for i in range(3):\n",
    "    axs[i][0].loglog(eta, data[i], 'ko')\n",
    "    axs[i][0].set_ylabel(datalabels[i])\n",
    "    \n",
    "for j in range(1,3):\n",
    "    for i in range(3-j):\n",
    "        axs[i][j].loglog(data[-j], data[i], 'ko')\n",
    "\n",
    "for j in range(3):\n",
    "    axs[0][j].set_xlabel(datalabels[-(j+1)])\n",
    "\n",
    "for i in range(1,3):\n",
    "    for j in range(3-i):\n",
    "        axs[i][j].xaxis.set_major_formatter(plt.NullFormatter())\n",
    "        axs[i][j].xaxis.set_minor_formatter(plt.NullFormatter())\n",
    "\n",
    "for i in range(3):\n",
    "    for j in range(1,3-i):\n",
    "        axs[i][j].yaxis.set_major_formatter(plt.NullFormatter())\n",
    "        axs[i][j].yaxis.set_minor_formatter(plt.NullFormatter())\n"
   ]
  }
 ],
 "metadata": {
  "kernelspec": {
   "display_name": "Python 3",
   "language": "python",
   "name": "python3"
  },
  "language_info": {
   "codemirror_mode": {
    "name": "ipython",
    "version": 3
   },
   "file_extension": ".py",
   "mimetype": "text/x-python",
   "name": "python",
   "nbconvert_exporter": "python",
   "pygments_lexer": "ipython3",
   "version": "3.8.8"
  }
 },
 "nbformat": 4,
 "nbformat_minor": 5
}
