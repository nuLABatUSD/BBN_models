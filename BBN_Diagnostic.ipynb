{
 "cells": [
  {
   "cell_type": "code",
   "execution_count": 22,
   "id": "b4146f80",
   "metadata": {},
   "outputs": [],
   "source": [
    "import numpy as np\n",
    "import matplotlib.pyplot as plt\n",
    "import numba as nb\n",
    "import subprocess\n",
    "import ipywidgets as widgets\n",
    "import pandas as pd\n",
    "import make_csv\n",
    "import BBN_Values as BBN_V"
   ]
  },
  {
   "cell_type": "markdown",
   "id": "2aaccc1a",
   "metadata": {},
   "source": [
    "The function below takes a mass file as an input as well as a file-name that you would like to be saved. It will be saved as a .npz file and should be the input to generate_2 and generate_3"
   ]
  },
  {
   "cell_type": "code",
   "execution_count": 23,
   "id": "42bc6f24",
   "metadata": {},
   "outputs": [],
   "source": [
    "def generate_1(filename,saved_file): \n",
    "    BBN_V.imp_values(filename,saved_file)"
   ]
  },
  {
   "cell_type": "markdown",
   "id": "1089f4ca",
   "metadata": {},
   "source": [
    "This function takes saved_file and generates all the CSV files. In order to make sure the function has ran correctly, go to downloads-->BBN_model-->alterbbn_v2.2-->CSVFiles. All the files here should have been updated seconds ago if the function is running correctly. "
   ]
  },
  {
   "cell_type": "code",
   "execution_count": 24,
   "id": "68125454",
   "metadata": {},
   "outputs": [],
   "source": [
    "def generate_2(saved_file):\n",
    "    make_csv.generate_csv(saved_file, folder_name=\"alterbbn_v2.2/CSVFiles/\")"
   ]
  },
  {
   "cell_type": "markdown",
   "id": "596b93d2",
   "metadata": {},
   "source": [
    "This function takes saved_file as in input as well. It then runs the file alter_vs.c to generate a new evolution_vs.out file. In order to make sure this function has run correctly go to downloads-->BBN_models. The file called evolution_vs.out should have been updated seconds ago if the function was running correctly with no errors. "
   ]
  },
  {
   "cell_type": "code",
   "execution_count": 25,
   "id": "98703496",
   "metadata": {},
   "outputs": [],
   "source": [
    "def generate_3(saved_file):\n",
    "    actual_data= np.load(saved_file, allow_pickle=True)\n",
    "    T_init = actual_data['T_initial']\n",
    "    eta_init = actual_data['eta_initial']\n",
    "    fail_safe = actual_data['failsafe']\n",
    "    ns_init = actual_data['ns_0']\n",
    "    m_s = actual_data['vs_mass']\n",
    "    mix = actual_data['mix_ang']\n",
    "    row = actual_data['row']\n",
    "\n",
    "    subprocess.run(['./alterbbn_v2.2/alter_vs.x', str(T_init),str(eta_init),str(fail_safe),str(row),str(ns_init),str(m_s),str(mix)], capture_output = True, text = False)\n"
   ]
  },
  {
   "cell_type": "markdown",
   "id": "6a437a0b",
   "metadata": {},
   "source": [
    "generates diagnostics as a test "
   ]
  },
  {
   "cell_type": "code",
   "execution_count": 26,
   "id": "a3938d82",
   "metadata": {},
   "outputs": [],
   "source": [
    "def generate_4(filename,saved_file,file_location):\n",
    "    actual_data= np.load(filename, allow_pickle=True)\n",
    "    f_array = actual_data['fe']\n",
    "    e_array = actual_data['e']\n",
    "    temp_cm = actual_data['Tcm']\n",
    "    m_s = actual_data['mass']#in MeV\n",
    "    t = actual_data['time']*1000*6.582*10**-25#conversion to seconds for plots \n",
    "    a = actual_data['scalefactors']\n",
    "    life = actual_data['lifetime']/(6.58*10**-25)*1/1000 #seconds need to be converted to inverse MeV\n",
    "    temp = actual_data['temp'] #units of MeV\n",
    "    decay = actual_data['decayrate']\n",
    "    coll = actual_data['collisionrate']\n",
    "    p_n = actual_data['p_n_rate']\n",
    "    n_p = actual_data['n_p_rate']\n",
    "    T_reversed = temp[::-1]\n",
    "\n",
    "    \n",
    "    more_data= np.load(saved_file, allow_pickle=True)\n",
    "    p_e = more_data['pe_dens']\n",
    "    p_e_reversed = p_e[::-1]\n",
    "\n",
    "    \n",
    "    \n",
    "    data_file = file_location\n",
    "    time,scale,temperature = np.loadtxt(data_file,delimiter=',',skiprows=1,usecols=(0,1,2),unpack=True)\n",
    "    \n",
    "    plt.figure()\n",
    "    plt.loglog(time,(scale*temperature)/(scale[0]*temperature[0]),color='red')\n",
    "    plt.loglog(t,(a*temp)/(a[0]*temp[0]),color='red',linestyle='--')\n",
    "    plt.show()\n",
    "    \n",
    "    plt.figure()\n",
    "    plt.loglog(T_reversed,p_e_reversed/(T_reversed**4),color='red')\n",
    "    plt.show()\n",
    "    "
   ]
  },
  {
   "cell_type": "code",
   "execution_count": 27,
   "id": "79350f0a",
   "metadata": {},
   "outputs": [],
   "source": [
    "generate_1(\"mass-300-life-0.030-new.npz\",\"first_test\")"
   ]
  },
  {
   "cell_type": "code",
   "execution_count": 28,
   "id": "d072da33",
   "metadata": {},
   "outputs": [
    {
     "name": "stdout",
     "output_type": "stream",
     "text": [
      "Directory exists\n",
      ".csv files generated in alterbbn_v2.2/CSVFiles/\n"
     ]
    }
   ],
   "source": [
    "generate_2(\"first_test.npz\")"
   ]
  },
  {
   "cell_type": "code",
   "execution_count": 29,
   "id": "8f42345b",
   "metadata": {},
   "outputs": [],
   "source": [
    "generate_3(\"first_test.npz\")"
   ]
  },
  {
   "cell_type": "code",
   "execution_count": 30,
   "id": "ceac2b34",
   "metadata": {},
   "outputs": [
    {
     "data": {
      "image/png": "[encoded data removed]",
      "text/plain": [
       "<Figure size 432x288 with 1 Axes>"
      ]
     },
     "metadata": {
      "needs_background": "light"
     },
     "output_type": "display_data"
    },
    {
     "data": {
      "image/png": "[encoded data removed]",
      "text/plain": [
       "<Figure size 432x288 with 1 Axes>"
      ]
     },
     "metadata": {
      "needs_background": "light"
     },
     "output_type": "display_data"
    }
   ],
   "source": [
    "generate_4(\"mass-300-life-0.030-new.npz\",\"first_test.npz\",\"evolution_vs.out\")"
   ]
  },
  {
   "cell_type": "code",
   "execution_count": null,
   "id": "1c278ffe",
   "metadata": {},
   "outputs": [],
   "source": []
  }
 ],
 "metadata": {
  "kernelspec": {
   "display_name": "Python 3 (ipykernel)",
   "language": "python",
   "name": "python3"
  },
  "language_info": {
   "codemirror_mode": {
    "name": "ipython",
    "version": 3
   },
   "file_extension": ".py",
   "mimetype": "text/x-python",
   "name": "python",
   "nbconvert_exporter": "python",
   "pygments_lexer": "ipython3",
   "version": "3.9.12"
  }
 },
 "nbformat": 4,
 "nbformat_minor": 5
}
